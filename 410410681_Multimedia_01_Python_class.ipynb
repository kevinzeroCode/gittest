{
  "cells": [
    {
      "cell_type": "markdown",
      "metadata": {
        "id": "XT7mkhb0835q"
      },
      "source": [
        "# Python 入門\n",
        "\n",
        "資料來源：https://github.com/chengchingwen/Python-Introduction"
      ]
    },
    {
      "cell_type": "markdown",
      "metadata": {
        "id": "dR228EUv835t"
      },
      "source": [
        "## 基本運算"
      ]
    },
    {
      "cell_type": "code",
      "execution_count": 36,
      "metadata": {
        "colab": {
          "base_uri": "https://localhost:8080/"
        },
        "id": "3DW-uJ62835u",
        "outputId": "b553a435-244f-4134-8aad-da75397e7fba"
      },
      "outputs": [
        {
          "output_type": "execute_result",
          "data": {
            "text/plain": [
              "3"
            ]
          },
          "metadata": {},
          "execution_count": 36
        }
      ],
      "source": [
        "1+2       # 加法"
      ]
    },
    {
      "cell_type": "code",
      "execution_count": 37,
      "metadata": {
        "colab": {
          "base_uri": "https://localhost:8080/"
        },
        "id": "TaoP6C9M835v",
        "outputId": "1243f68e-cd2c-452d-81d2-95165952873d"
      },
      "outputs": [
        {
          "output_type": "execute_result",
          "data": {
            "text/plain": [
              "-1"
            ]
          },
          "metadata": {},
          "execution_count": 37
        }
      ],
      "source": [
        "3-4       # 減法"
      ]
    },
    {
      "cell_type": "code",
      "execution_count": 38,
      "metadata": {
        "colab": {
          "base_uri": "https://localhost:8080/"
        },
        "id": "pB5YgZN0835w",
        "outputId": "89e8ee1e-b91d-4fda-c78d-6a5ae61d6858"
      },
      "outputs": [
        {
          "output_type": "execute_result",
          "data": {
            "text/plain": [
              "30"
            ]
          },
          "metadata": {},
          "execution_count": 38
        }
      ],
      "source": [
        "5*6       # 乘法"
      ]
    },
    {
      "cell_type": "code",
      "execution_count": 39,
      "metadata": {
        "colab": {
          "base_uri": "https://localhost:8080/"
        },
        "id": "zPuZ7ldx835w",
        "outputId": "dc6970b3-0b6f-438e-85e2-13a622a4ea40"
      },
      "outputs": [
        {
          "output_type": "execute_result",
          "data": {
            "text/plain": [
              "0.875"
            ]
          },
          "metadata": {},
          "execution_count": 39
        }
      ],
      "source": [
        "7/8       # 除法"
      ]
    },
    {
      "cell_type": "code",
      "execution_count": 40,
      "metadata": {
        "colab": {
          "base_uri": "https://localhost:8080/"
        },
        "id": "h1RYR_JM835w",
        "outputId": "e7e8d5ce-497d-411d-9354-e87cc3775804"
      },
      "outputs": [
        {
          "output_type": "execute_result",
          "data": {
            "text/plain": [
              "0"
            ]
          },
          "metadata": {},
          "execution_count": 40
        }
      ],
      "source": [
        "7//8      # 除法，無條件捨去到個位數"
      ]
    },
    {
      "cell_type": "code",
      "execution_count": 41,
      "metadata": {
        "colab": {
          "base_uri": "https://localhost:8080/"
        },
        "id": "_6gjgM7C835x",
        "outputId": "576ec3de-a712-46a6-f30a-bdc9a0f37827"
      },
      "outputs": [
        {
          "output_type": "execute_result",
          "data": {
            "text/plain": [
              "1"
            ]
          },
          "metadata": {},
          "execution_count": 41
        }
      ],
      "source": [
        "10%9      # 取餘數"
      ]
    },
    {
      "cell_type": "code",
      "execution_count": 42,
      "metadata": {
        "colab": {
          "base_uri": "https://localhost:8080/"
        },
        "id": "qiCc0RmY835x",
        "outputId": "9039ec5e-662a-4aca-a0c6-37c2d9bec1a1"
      },
      "outputs": [
        {
          "output_type": "execute_result",
          "data": {
            "text/plain": [
              "1024"
            ]
          },
          "metadata": {},
          "execution_count": 42
        }
      ],
      "source": [
        "2 ** 10   # 指數"
      ]
    },
    {
      "cell_type": "code",
      "execution_count": 43,
      "metadata": {
        "colab": {
          "base_uri": "https://localhost:8080/"
        },
        "id": "W0N5VEWQ835x",
        "outputId": "02b73204-876e-42aa-ebc6-7c5fdab4ae51"
      },
      "outputs": [
        {
          "output_type": "execute_result",
          "data": {
            "text/plain": [
              "1.4142135623730951"
            ]
          },
          "metadata": {},
          "execution_count": 43
        }
      ],
      "source": [
        "2 ** (1/2)   # 開根號"
      ]
    },
    {
      "cell_type": "code",
      "execution_count": 44,
      "metadata": {
        "colab": {
          "base_uri": "https://localhost:8080/"
        },
        "id": "KkwYg_bO835y",
        "outputId": "7705571d-3a16-413a-9846-c89fef51ff7e"
      },
      "outputs": [
        {
          "output_type": "execute_result",
          "data": {
            "text/plain": [
              "(1+2j)"
            ]
          },
          "metadata": {},
          "execution_count": 44
        }
      ],
      "source": [
        "1+2j         # 複數 (這裡虛部用 j 表示)"
      ]
    },
    {
      "cell_type": "code",
      "execution_count": 45,
      "metadata": {
        "colab": {
          "base_uri": "https://localhost:8080/"
        },
        "id": "DoBzNcE2835y",
        "outputId": "bfa23088-0401-4f6c-c034-1c7099ed9779"
      },
      "outputs": [
        {
          "output_type": "execute_result",
          "data": {
            "text/plain": [
              "(-5+10j)"
            ]
          },
          "metadata": {},
          "execution_count": 45
        }
      ],
      "source": [
        "(1+2j) * (3+4j)    # 複數乘法"
      ]
    },
    {
      "cell_type": "code",
      "execution_count": 46,
      "metadata": {
        "colab": {
          "base_uri": "https://localhost:8080/"
        },
        "id": "ulzZjQSO835y",
        "outputId": "19b5d1c3-013b-4a6d-e446-f7ff85bcc2ae"
      },
      "outputs": [
        {
          "output_type": "execute_result",
          "data": {
            "text/plain": [
              "1"
            ]
          },
          "metadata": {},
          "execution_count": 46
        }
      ],
      "source": [
        "abs(-1)      # absolute, 絕對值"
      ]
    },
    {
      "cell_type": "code",
      "execution_count": 47,
      "metadata": {
        "colab": {
          "base_uri": "https://localhost:8080/"
        },
        "id": "vWGxP7Yw835y",
        "outputId": "5f37152b-fe74-43ae-8130-c1b6408232fe"
      },
      "outputs": [
        {
          "output_type": "execute_result",
          "data": {
            "text/plain": [
              "2.23606797749979"
            ]
          },
          "metadata": {},
          "execution_count": 47
        }
      ],
      "source": [
        "abs(1+2j)    # absolute, 絕對值"
      ]
    },
    {
      "cell_type": "code",
      "execution_count": 48,
      "metadata": {
        "colab": {
          "base_uri": "https://localhost:8080/"
        },
        "id": "eQJ1tzqZ835y",
        "outputId": "c59c27c2-f2de-47df-ffc6-27e3a1a27eeb"
      },
      "outputs": [
        {
          "output_type": "execute_result",
          "data": {
            "text/plain": [
              "2.23606797749979"
            ]
          },
          "metadata": {},
          "execution_count": 48
        }
      ],
      "source": [
        "import numpy as np\n",
        "np.sqrt(5)"
      ]
    },
    {
      "cell_type": "code",
      "execution_count": 49,
      "metadata": {
        "colab": {
          "base_uri": "https://localhost:8080/"
        },
        "id": "dBUSjhpz835z",
        "outputId": "6d1018a2-0883-4b83-d4fe-48aa3f0448b6"
      },
      "outputs": [
        {
          "output_type": "execute_result",
          "data": {
            "text/plain": [
              "3.142"
            ]
          },
          "metadata": {},
          "execution_count": 49
        }
      ],
      "source": [
        "round(3.1415926, 3)     # 四捨五入到小數點後第 3 位"
      ]
    },
    {
      "cell_type": "code",
      "execution_count": 50,
      "metadata": {
        "colab": {
          "base_uri": "https://localhost:8080/"
        },
        "id": "2Di3WR71835z",
        "outputId": "f290073a-e45c-4a6b-ca58-7ff991e54c39"
      },
      "outputs": [
        {
          "output_type": "execute_result",
          "data": {
            "text/plain": [
              "3.1416"
            ]
          },
          "metadata": {},
          "execution_count": 50
        }
      ],
      "source": [
        "round(3.1415926, 4)     # 四捨五入到小數點後第 4 位"
      ]
    },
    {
      "cell_type": "markdown",
      "metadata": {
        "id": "Ow-FVLtz835z"
      },
      "source": [
        "## <font color=\"Red\"> 1.1 熟能生巧 </font>\n",
        "<font color=\"Red\"> 練習以下狀況    \n",
        "<font color=\"Red\"> 1. 7.23 的 20 次方    \n",
        "<font color=\"Red\"> 2. 虛數 i 的平方    \n",
        "<font color=\"Red\"> 3. 42 的四次方根   \n",
        "<font color=\"Red\"> 補充 : 運算有先後順序，可以用括弧來確保自己想要的順序"
      ]
    },
    {
      "cell_type": "code",
      "execution_count": 51,
      "metadata": {
        "colab": {
          "base_uri": "https://localhost:8080/"
        },
        "id": "CA1rMCD5835z",
        "outputId": "c78e1f33-370c-401e-ec0e-e2b4da668700"
      },
      "outputs": [
        {
          "output_type": "stream",
          "name": "stdout",
          "text": [
            " 7.23 的 20 次方: 152323161809081088\n",
            " 虛數 i 的平方:  (-1+0j)\n",
            " 42 的四次方根:  2.5457298950218306\n"
          ]
        }
      ],
      "source": [
        "#------------------- Code Here ------------------------#\n",
        "print(\" 7.23 的 20 次方: %d\" % (7.23**20) )\n",
        "print(\" 虛數 i 的平方: \",  (1j)**2 )\n",
        "print(\" 42 的四次方根: \", (42**(1/4)) )\n",
        "#------------------- Stop Here ------------------------#"
      ]
    },
    {
      "cell_type": "markdown",
      "metadata": {
        "id": "ySrtm2RV835z"
      },
      "source": [
        "## <font color=\"Red\"> 1.2 數字的顯示方式  % vs. format  \n",
        "https://kknews.cc/zh-tw/code/qlpq5nb.html    \n",
        "<font color=\"Red\">練習分別使用%與format進行\"7.23 的 3.25 次方\" 之不同顯示方式(顯示小數點以下第5位)   "
      ]
    },
    {
      "cell_type": "code",
      "execution_count": 52,
      "metadata": {
        "colab": {
          "base_uri": "https://localhost:8080/"
        },
        "id": "4l3nYsrH835z",
        "outputId": "4db69c13-fa66-4492-a730-6efdd5a760fb"
      },
      "outputs": [
        {
          "output_type": "stream",
          "name": "stdout",
          "text": [
            "7.23 的 3.25 次方是： 619.7256422209355\n",
            "7.23 的 3.25 次方是：619.72564\n"
          ]
        }
      ],
      "source": [
        "print(\"7.23 的 3.25 次方是：\", 7.23**3.25)\n",
        "#------------------- Code Here ------------------------#\n",
        "print('7.23 的 3.25 次方是：%.5f' % 7.23**3.25)\n",
        "#------------------- Stop Here ------------------------#"
      ]
    },
    {
      "cell_type": "markdown",
      "metadata": {
        "id": "xrrolKsa8350"
      },
      "source": [
        "## 賦值 (Assign)\n",
        "\n",
        "用 `=` 來給變數內容值"
      ]
    },
    {
      "cell_type": "code",
      "execution_count": 53,
      "metadata": {
        "id": "UXIfGRk-8350"
      },
      "outputs": [],
      "source": [
        "a = 1\n",
        "b = 1.5\n",
        "c = \"asd\""
      ]
    },
    {
      "cell_type": "markdown",
      "metadata": {
        "id": "VKy6REob8350"
      },
      "source": [
        "## 型別 (Type)\n",
        "\n",
        "在程式語言中，型別概念上來說就像是物品的種類，例如：「這群是筆，那群是橡皮擦」。\n",
        "\n",
        "\n",
        "## Python 的內建型別 (Built-in Types)\n",
        "\n",
        "* int (整數)\n",
        "* float (浮點數)\n",
        "* complex (複數)\n",
        "* str (字串)\n",
        "* tuple\n",
        "* list\n",
        "* dict\n",
        "* set\n",
        "* ..."
      ]
    },
    {
      "cell_type": "code",
      "execution_count": 54,
      "metadata": {
        "scrolled": true,
        "colab": {
          "base_uri": "https://localhost:8080/"
        },
        "id": "zm5wMcnM8350",
        "outputId": "ff6217c9-51bc-4e8a-b011-965073a6c971"
      },
      "outputs": [
        {
          "output_type": "execute_result",
          "data": {
            "text/plain": [
              "int"
            ]
          },
          "metadata": {},
          "execution_count": 54
        }
      ],
      "source": [
        "type(42)    # 用 type 可以得知型別"
      ]
    },
    {
      "cell_type": "code",
      "execution_count": 55,
      "metadata": {
        "colab": {
          "base_uri": "https://localhost:8080/"
        },
        "id": "QC1C--5i8350",
        "outputId": "9c8a94f4-f838-431e-c657-fcac2a04bcb2"
      },
      "outputs": [
        {
          "output_type": "execute_result",
          "data": {
            "text/plain": [
              "float"
            ]
          },
          "metadata": {},
          "execution_count": 55
        }
      ],
      "source": [
        "type(3.14159265358979323846)"
      ]
    },
    {
      "cell_type": "code",
      "execution_count": 56,
      "metadata": {
        "colab": {
          "base_uri": "https://localhost:8080/"
        },
        "id": "WltfxUii8350",
        "outputId": "3ab924f7-f33d-4734-fcad-0c84d33a2efb"
      },
      "outputs": [
        {
          "output_type": "stream",
          "name": "stdout",
          "text": [
            "619.7256422209355 3\n",
            "<class 'float'>\n",
            "<class 'int'>\n",
            "<class 'list'>\n"
          ]
        }
      ],
      "source": [
        "a = 7.23**3.25\n",
        "b = 3\n",
        "print(a,b)\n",
        "print(type(a))\n",
        "print(type(b))\n",
        "print(type([]))"
      ]
    },
    {
      "cell_type": "code",
      "execution_count": 57,
      "metadata": {
        "colab": {
          "base_uri": "https://localhost:8080/",
          "height": 36
        },
        "id": "CcKKni4b8350",
        "outputId": "6a437234-cda1-473c-f977-35f1480de2be"
      },
      "outputs": [
        {
          "output_type": "execute_result",
          "data": {
            "text/plain": [
              "'測試'"
            ],
            "application/vnd.google.colaboratory.intrinsic+json": {
              "type": "string"
            }
          },
          "metadata": {},
          "execution_count": 57
        }
      ],
      "source": [
        "\"測試\"      # str, 字串"
      ]
    },
    {
      "cell_type": "code",
      "execution_count": 58,
      "metadata": {
        "colab": {
          "base_uri": "https://localhost:8080/",
          "height": 36
        },
        "id": "ZQcZjQ-78350",
        "outputId": "6c4e9e84-e829-473c-e83f-a702c098529e"
      },
      "outputs": [
        {
          "output_type": "execute_result",
          "data": {
            "text/plain": [
              "'\\n我\\n是\\n多\\n行\\n字\\n串\\n'"
            ],
            "application/vnd.google.colaboratory.intrinsic+json": {
              "type": "string"
            }
          },
          "metadata": {},
          "execution_count": 58
        }
      ],
      "source": [
        "\"\"\"\n",
        "我\n",
        "是\n",
        "多\n",
        "行\n",
        "字\n",
        "串\n",
        "\"\"\"       # 用 3 個 \" 夾起來"
      ]
    },
    {
      "cell_type": "code",
      "execution_count": 59,
      "metadata": {
        "colab": {
          "base_uri": "https://localhost:8080/",
          "height": 36
        },
        "id": "jjMTvJRK8351",
        "outputId": "63754e08-0513-4641-f3ff-9eb5932194ec"
      },
      "outputs": [
        {
          "output_type": "execute_result",
          "data": {
            "text/plain": [
              "'\\n我\\n是\\n多\\n行\\n字\\n串\\n'"
            ],
            "application/vnd.google.colaboratory.intrinsic+json": {
              "type": "string"
            }
          },
          "metadata": {},
          "execution_count": 59
        }
      ],
      "source": [
        "'''\n",
        "我\n",
        "是\n",
        "多\n",
        "行\n",
        "字\n",
        "串\n",
        "'''       # 也可以用 3 個 ' 夾起來"
      ]
    },
    {
      "cell_type": "code",
      "execution_count": 60,
      "metadata": {
        "colab": {
          "base_uri": "https://localhost:8080/"
        },
        "id": "mujUU7gx8351",
        "outputId": "0dae8fef-4350-4fd5-e3b5-aa5d6f8f0c06"
      },
      "outputs": [
        {
          "output_type": "execute_result",
          "data": {
            "text/plain": [
              "(42, 'O w O')"
            ]
          },
          "metadata": {},
          "execution_count": 60
        }
      ],
      "source": [
        "(42, 'O w O')    # tuple, 可以放入各種東西的大箱子，放完後不能更動"
      ]
    },
    {
      "cell_type": "code",
      "execution_count": 61,
      "metadata": {
        "colab": {
          "base_uri": "https://localhost:8080/"
        },
        "id": "BroeAerb8351",
        "outputId": "77ac57ce-28d4-4aae-82f4-ace371cf95ef"
      },
      "outputs": [
        {
          "output_type": "execute_result",
          "data": {
            "text/plain": [
              "42"
            ]
          },
          "metadata": {},
          "execution_count": 61
        }
      ],
      "source": [
        "foo = (42, 'O w O')\n",
        "foo[0]          # subscript operator 可以取出其中的值\n",
        "                 # 注意，index 從 0 開始算"
      ]
    },
    {
      "cell_type": "code",
      "execution_count": 62,
      "metadata": {
        "id": "e2-rigq68351"
      },
      "outputs": [],
      "source": [
        "tu = [42, 'O w O']    # list 和 tuple 相似，但放完後可以更動"
      ]
    },
    {
      "cell_type": "code",
      "execution_count": 63,
      "metadata": {
        "id": "UXh3rPJJ8351"
      },
      "outputs": [],
      "source": [
        "tu[0] = 11"
      ]
    },
    {
      "cell_type": "code",
      "execution_count": 64,
      "metadata": {
        "colab": {
          "base_uri": "https://localhost:8080/"
        },
        "id": "9MG0xrk18351",
        "outputId": "26cbe37a-ec2f-40c9-9ee2-3d9e1f93e270"
      },
      "outputs": [
        {
          "output_type": "execute_result",
          "data": {
            "text/plain": [
              "{'a': 1, 'b': 42}"
            ]
          },
          "metadata": {},
          "execution_count": 64
        }
      ],
      "source": [
        "{'a': 1, 'b': 42}    # dict，冒號左邊的是 key、右邊的是 value，用 key 可以查到 value (想像查字典的狀況)"
      ]
    },
    {
      "cell_type": "code",
      "execution_count": 65,
      "metadata": {
        "colab": {
          "base_uri": "https://localhost:8080/"
        },
        "id": "V5bctdDN8351",
        "outputId": "e25adb9c-c8be-402f-944f-90644675db2e"
      },
      "outputs": [
        {
          "output_type": "execute_result",
          "data": {
            "text/plain": [
              "42"
            ]
          },
          "metadata": {},
          "execution_count": 65
        }
      ],
      "source": [
        "d = {'a': 1, 'b': 42}\n",
        "d['b']"
      ]
    },
    {
      "cell_type": "code",
      "execution_count": 66,
      "metadata": {
        "colab": {
          "base_uri": "https://localhost:8080/"
        },
        "id": "aIyJ8U9Y8351",
        "outputId": "c23d61a7-29b1-4eb7-d6c2-bae359c98772"
      },
      "outputs": [
        {
          "output_type": "execute_result",
          "data": {
            "text/plain": [
              "{1, 2, 3}"
            ]
          },
          "metadata": {},
          "execution_count": 66
        }
      ],
      "source": [
        "{1, 2, 3, 3, 3}  # set，數學上的集合，裡面的東西不會重複，也沒有順序"
      ]
    },
    {
      "cell_type": "code",
      "execution_count": 67,
      "metadata": {
        "colab": {
          "base_uri": "https://localhost:8080/"
        },
        "id": "ZYuwUYsm8351",
        "outputId": "01c2eac7-be19-44dc-cd1c-1083b287c990"
      },
      "outputs": [
        {
          "output_type": "execute_result",
          "data": {
            "text/plain": [
              "{1, 2, 3, 4}"
            ]
          },
          "metadata": {},
          "execution_count": 67
        }
      ],
      "source": [
        "A = {1, 2, 3}\n",
        "B = {1, 2, 4}\n",
        "A | B            # 取聯集"
      ]
    },
    {
      "cell_type": "code",
      "execution_count": 68,
      "metadata": {
        "colab": {
          "base_uri": "https://localhost:8080/"
        },
        "id": "yzzJ0dKA8352",
        "outputId": "38cc1955-b6c5-4dcd-9e28-f9c52cb9ac31"
      },
      "outputs": [
        {
          "output_type": "execute_result",
          "data": {
            "text/plain": [
              "{1, 2}"
            ]
          },
          "metadata": {},
          "execution_count": 68
        }
      ],
      "source": [
        "A & B            # 取交集"
      ]
    },
    {
      "cell_type": "code",
      "execution_count": 69,
      "metadata": {
        "colab": {
          "base_uri": "https://localhost:8080/"
        },
        "id": "8u7QWUb_8352",
        "outputId": "c0f302ff-3aad-41c1-ea9c-6bfa7bcbf8c0"
      },
      "outputs": [
        {
          "output_type": "execute_result",
          "data": {
            "text/plain": [
              "{3, 4}"
            ]
          },
          "metadata": {},
          "execution_count": 69
        }
      ],
      "source": [
        "A ^ B            # 取對稱差"
      ]
    },
    {
      "cell_type": "code",
      "execution_count": 70,
      "metadata": {
        "colab": {
          "base_uri": "https://localhost:8080/"
        },
        "id": "04v44_th8353",
        "outputId": "e9b0f4b6-6af9-4bbd-c64f-14d09517ea5c"
      },
      "outputs": [
        {
          "output_type": "execute_result",
          "data": {
            "text/plain": [
              "{3}"
            ]
          },
          "metadata": {},
          "execution_count": 70
        }
      ],
      "source": [
        "A - B            # 取差集"
      ]
    },
    {
      "cell_type": "markdown",
      "metadata": {
        "id": "zTIjPQDL8353"
      },
      "source": [
        "## 真偽值\n",
        "\n",
        "* True/False\n",
        "* `>` `>=` `<` `<=` `==` `!=` `in`\n",
        "* and/or/not\n",
        "* is\n",
        "* 各種 empty 狀況\n",
        "    - 0, 1\n",
        "    - \"\", \"abc\"\n",
        "    - (,), (1, 2)\n",
        "    - [], [1, 2]\n",
        "    - set(), {1, 2}"
      ]
    },
    {
      "cell_type": "code",
      "execution_count": 71,
      "metadata": {
        "colab": {
          "base_uri": "https://localhost:8080/"
        },
        "id": "m4U3yQiA8353",
        "outputId": "ff2c9ce3-c961-4aa0-9011-8e0a075bd3cd"
      },
      "outputs": [
        {
          "output_type": "execute_result",
          "data": {
            "text/plain": [
              "True"
            ]
          },
          "metadata": {},
          "execution_count": 71
        }
      ],
      "source": [
        "True"
      ]
    },
    {
      "cell_type": "code",
      "execution_count": 72,
      "metadata": {
        "colab": {
          "base_uri": "https://localhost:8080/"
        },
        "id": "fyvi0E2r8353",
        "outputId": "2321ed8b-7f37-444c-8c9e-f7a08682f4c3"
      },
      "outputs": [
        {
          "output_type": "execute_result",
          "data": {
            "text/plain": [
              "False"
            ]
          },
          "metadata": {},
          "execution_count": 72
        }
      ],
      "source": [
        "False"
      ]
    },
    {
      "cell_type": "code",
      "execution_count": 73,
      "metadata": {
        "colab": {
          "base_uri": "https://localhost:8080/"
        },
        "id": "1UMosN1Y8353",
        "outputId": "952b88eb-a1e0-4645-a1d0-6c0bc9164f0d"
      },
      "outputs": [
        {
          "output_type": "execute_result",
          "data": {
            "text/plain": [
              "True"
            ]
          },
          "metadata": {},
          "execution_count": 73
        }
      ],
      "source": [
        "3 > 2"
      ]
    },
    {
      "cell_type": "code",
      "execution_count": 74,
      "metadata": {
        "colab": {
          "base_uri": "https://localhost:8080/"
        },
        "id": "CV8fYzHi8353",
        "outputId": "7311a713-8f5d-4811-ac45-3a40fc5ca2da"
      },
      "outputs": [
        {
          "output_type": "execute_result",
          "data": {
            "text/plain": [
              "False"
            ]
          },
          "metadata": {},
          "execution_count": 74
        }
      ],
      "source": [
        "5 <= 1"
      ]
    },
    {
      "cell_type": "code",
      "execution_count": 75,
      "metadata": {
        "colab": {
          "base_uri": "https://localhost:8080/"
        },
        "id": "kjLip6Tk8353",
        "outputId": "e3df94c4-8ef6-4926-da54-4ce7a503e290"
      },
      "outputs": [
        {
          "output_type": "execute_result",
          "data": {
            "text/plain": [
              "True"
            ]
          },
          "metadata": {},
          "execution_count": 75
        }
      ],
      "source": [
        "1 != 2"
      ]
    },
    {
      "cell_type": "code",
      "execution_count": 76,
      "metadata": {
        "colab": {
          "base_uri": "https://localhost:8080/"
        },
        "id": "JRrFFgfS8354",
        "outputId": "79b7b2ee-1ff4-496d-9593-41114af91e9a"
      },
      "outputs": [
        {
          "output_type": "execute_result",
          "data": {
            "text/plain": [
              "True"
            ]
          },
          "metadata": {},
          "execution_count": 76
        }
      ],
      "source": [
        "5 in [1, 2, 3, 4, 5]"
      ]
    },
    {
      "cell_type": "code",
      "execution_count": 77,
      "metadata": {
        "colab": {
          "base_uri": "https://localhost:8080/"
        },
        "id": "BRgyUMQK8354",
        "outputId": "1d63aa40-2e2a-42a5-e70e-1277b72bbbc1"
      },
      "outputs": [
        {
          "output_type": "execute_result",
          "data": {
            "text/plain": [
              "False"
            ]
          },
          "metadata": {},
          "execution_count": 77
        }
      ],
      "source": [
        "bool(0)    # 用 bool 來看各個資料是 True 還是 False"
      ]
    },
    {
      "cell_type": "code",
      "execution_count": 78,
      "metadata": {
        "colab": {
          "base_uri": "https://localhost:8080/"
        },
        "id": "DXBJsW-28354",
        "outputId": "cfee9a3c-b187-44ab-a212-6878950f03f2"
      },
      "outputs": [
        {
          "output_type": "execute_result",
          "data": {
            "text/plain": [
              "True"
            ]
          },
          "metadata": {},
          "execution_count": 78
        }
      ],
      "source": [
        "bool(42)"
      ]
    },
    {
      "cell_type": "code",
      "execution_count": 79,
      "metadata": {
        "colab": {
          "base_uri": "https://localhost:8080/"
        },
        "id": "-ytYJJyX8354",
        "outputId": "2b7fde74-70b0-4bb8-b95f-6236a4c0ac8a"
      },
      "outputs": [
        {
          "output_type": "execute_result",
          "data": {
            "text/plain": [
              "(False, True)"
            ]
          },
          "metadata": {},
          "execution_count": 79
        }
      ],
      "source": [
        "bool(\"\"), bool(\"abc\")"
      ]
    },
    {
      "cell_type": "code",
      "execution_count": 80,
      "metadata": {
        "colab": {
          "base_uri": "https://localhost:8080/"
        },
        "id": "9LfN_w_88354",
        "outputId": "ff7d494d-5d83-4821-b43e-7f2181339cbf"
      },
      "outputs": [
        {
          "output_type": "execute_result",
          "data": {
            "text/plain": [
              "(False, True)"
            ]
          },
          "metadata": {},
          "execution_count": 80
        }
      ],
      "source": [
        "bool(tuple()), bool((1, 2))"
      ]
    },
    {
      "cell_type": "code",
      "execution_count": 81,
      "metadata": {
        "colab": {
          "base_uri": "https://localhost:8080/"
        },
        "id": "GQ84caE68354",
        "outputId": "c781609c-a386-4e3b-a070-7058971818b6"
      },
      "outputs": [
        {
          "output_type": "execute_result",
          "data": {
            "text/plain": [
              "(False, True)"
            ]
          },
          "metadata": {},
          "execution_count": 81
        }
      ],
      "source": [
        "bool([]), bool([1, 2])"
      ]
    },
    {
      "cell_type": "code",
      "execution_count": 82,
      "metadata": {
        "colab": {
          "base_uri": "https://localhost:8080/"
        },
        "id": "AYkyT0XF8354",
        "outputId": "4cee06ed-5786-4a40-baf8-528618f4a908"
      },
      "outputs": [
        {
          "output_type": "execute_result",
          "data": {
            "text/plain": [
              "(False, True)"
            ]
          },
          "metadata": {},
          "execution_count": 82
        }
      ],
      "source": [
        "bool(set()), bool({1, 2})"
      ]
    },
    {
      "cell_type": "code",
      "execution_count": 83,
      "metadata": {
        "colab": {
          "base_uri": "https://localhost:8080/"
        },
        "id": "S6IYrZ5k8355",
        "outputId": "7eb11c7c-9c6b-4dfa-d52a-32f3661d4626"
      },
      "outputs": [
        {
          "output_type": "execute_result",
          "data": {
            "text/plain": [
              "(False, True)"
            ]
          },
          "metadata": {},
          "execution_count": 83
        }
      ],
      "source": [
        "bool(dict()), bool({'a': 1, 'b': 42})"
      ]
    },
    {
      "cell_type": "markdown",
      "metadata": {
        "id": "k8HgOlvI8355"
      },
      "source": [
        "## 流程控制\n",
        "\n",
        "* if ... elif ... else\n",
        "* for ... in ...\n",
        "* break\n",
        "* continue\n",
        "* while ... else ..."
      ]
    },
    {
      "cell_type": "code",
      "execution_count": 84,
      "metadata": {
        "colab": {
          "base_uri": "https://localhost:8080/"
        },
        "id": "QjvzBrYd8355",
        "outputId": "0bcb2f2c-2800-486b-deb2-55814efd34ba"
      },
      "outputs": [
        {
          "output_type": "stream",
          "name": "stdout",
          "text": [
            "Yes\n"
          ]
        }
      ],
      "source": [
        "if 3 > 2:\n",
        "    print('Yes')\n",
        "else:\n",
        "    print('No')    # 如果 3 > 2 的話印出 'Yes'，否則印出 'Nooooooo, why can you come here?'\n",
        "                                                 # 注意縮排是有影響的"
      ]
    },
    {
      "cell_type": "code",
      "execution_count": 85,
      "metadata": {
        "colab": {
          "base_uri": "https://localhost:8080/"
        },
        "id": "RNCcGyVd8355",
        "outputId": "a87b7972-2c40-4abe-f057-bec81a2cdf3e"
      },
      "outputs": [
        {
          "output_type": "stream",
          "name": "stdout",
          "text": [
            "Yes\n"
          ]
        }
      ],
      "source": [
        "if 2 > 3:\n",
        "    print('No')\n",
        "elif 5 > 4:\n",
        "    print('Yes')\n",
        "else:\n",
        "    print('@_@?')    # 如果 2 > 3 的話印出 'No'，要不然 5 > 4 的話就印出 'Yes'，否則印出 '@_@?'"
      ]
    },
    {
      "cell_type": "markdown",
      "metadata": {
        "id": "blZMqiqK8355"
      },
      "source": [
        "## 利用 input 作為使用者輸入介面，使用 int() 將輸入值改為整數"
      ]
    },
    {
      "cell_type": "code",
      "execution_count": 86,
      "metadata": {
        "colab": {
          "base_uri": "https://localhost:8080/"
        },
        "id": "mkcLoNwJ8355",
        "outputId": "ff29eccf-8ff9-4ba7-fd3a-4a3c09e1fb63"
      },
      "outputs": [
        {
          "output_type": "stream",
          "name": "stdout",
          "text": [
            "請輸入今天的溫度：20\n",
            "吹電風扇就好。\n"
          ]
        }
      ],
      "source": [
        "temperature = int(input(\"請輸入今天的溫度：\"))\n",
        "if temperature >= 28:\n",
        "    print(\"該開冷氣了！\")\n",
        "else:\n",
        "    print(\"吹電風扇就好。\")"
      ]
    },
    {
      "cell_type": "markdown",
      "metadata": {
        "id": "J0j5gIlI8355"
      },
      "source": [
        "## 利用 str 將數值改為字串以輸出顯示"
      ]
    },
    {
      "cell_type": "code",
      "execution_count": 87,
      "metadata": {
        "colab": {
          "base_uri": "https://localhost:8080/"
        },
        "id": "7NY0BjHm8355",
        "outputId": "856e44fd-51af-4835-f38c-0ffcea8bddf2"
      },
      "outputs": [
        {
          "output_type": "stream",
          "name": "stdout",
          "text": [
            "請輸入今天的溫度：20\n",
            "今天溫度20度，吹電風扇就好。\n"
          ]
        }
      ],
      "source": [
        "temperature = int(input(\"請輸入今天的溫度：\"))\n",
        "if temperature >= 28:\n",
        "    print(\"今天溫度\"+str(temperature)+\"度，該開冷氣了！\")\n",
        "else:\n",
        "    print(\"今天溫度\"+str(temperature)+\"度，吹電風扇就好。\")"
      ]
    },
    {
      "cell_type": "markdown",
      "metadata": {
        "id": "24OZBdoz8356"
      },
      "source": [
        "## <font color=\"Red\"> 1.3 請增加溫度的判斷，熟能生巧 </font>\n",
        "\n",
        "<font color=\"Red\"> 溫度範圍與顯示字串如下：   \n",
        "<font color=\"Red\"> 1. 今天溫度 >= 28 度，顯示\"今天溫度??度，該開冷氣了！\"    \n",
        "<font color=\"Red\"> 2. 今天溫度介於 20 到 27 度，顯示\"今天溫度??度，吹電風扇就好。\"      \n",
        "<font color=\"Red\"> 3. 今天溫度介於 10 到 19 度，顯示\"今天溫度??度，開窗就可以了。\"      \n",
        "<font color=\"Red\"> 4. 今天溫度 9 度以下，顯示\"今天溫度??度，太冷了，關好窗戶。\"    "
      ]
    },
    {
      "cell_type": "code",
      "execution_count": 88,
      "metadata": {
        "colab": {
          "base_uri": "https://localhost:8080/"
        },
        "id": "pYBjEXbe8356",
        "outputId": "0675a29d-46a2-417d-f644-434165f5e150"
      },
      "outputs": [
        {
          "output_type": "stream",
          "name": "stdout",
          "text": [
            "請輸入今天的溫度：8\n",
            "今天溫度8度，太冷了，關好窗戶。\n"
          ]
        }
      ],
      "source": [
        "temperature = int(input(\"請輸入今天的溫度：\"))\n",
        "#------------------- Code Here ------------------------#\n",
        "if temperature >= 28:\n",
        "    print(\"今天溫度\"+str(temperature)+\"度，該開冷氣了！\")\n",
        "elif(temperature>=20):\n",
        "    print(\"今天溫度\"+str(temperature)+\"度，吹電風扇就好。\")\n",
        "elif(temperature>=10):\n",
        "    print(\"今天溫度\"+str(temperature)+\"度，開窗就可以了。\")\n",
        "else:\n",
        "    print(\"今天溫度\"+str(temperature)+\"度，太冷了，關好窗戶。\")\n",
        "#------------------- Stop Here ------------------------#"
      ]
    },
    {
      "cell_type": "markdown",
      "metadata": {
        "id": "yednhI9J8356"
      },
      "source": [
        "## 常見的數字計算"
      ]
    },
    {
      "cell_type": "code",
      "execution_count": 89,
      "metadata": {
        "colab": {
          "base_uri": "https://localhost:8080/"
        },
        "id": "R26fDWML8356",
        "outputId": "1bb6d00f-b26c-4707-f2b5-2103862d569b"
      },
      "outputs": [
        {
          "output_type": "stream",
          "name": "stdout",
          "text": [
            "a = 5.50, b = 3.20, c = a+b = 8.70\n",
            "a = 5.50, b = 3.20, d = a-b = 2.30\n",
            "a = 5.50, b = 3.20, e = a*b = 17.60\n",
            "a = 5.50, b = 3.20, f = a/b = 1.72\n"
          ]
        }
      ],
      "source": [
        "a = 5.5\n",
        "b = 3.2\n",
        "c = a+b\n",
        "d = a-b\n",
        "e = a*b\n",
        "f = a/b\n",
        "print(\"a = %.2f, b = %.2f, c = a+b = %.2f\"%(a,b,c))\n",
        "print(\"a = %.2f, b = %.2f, d = a-b = %.2f\"%(a,b,d))\n",
        "print(\"a = %.2f, b = %.2f, e = a*b = %.2f\"%(a,b,e))\n",
        "print(\"a = %.2f, b = %.2f, f = a/b = %.2f\"%(a,b,f))"
      ]
    },
    {
      "cell_type": "markdown",
      "metadata": {
        "id": "XyBBZlx48356"
      },
      "source": [
        "## <font color=\"Red\"> 1.4 BMI 計算\n",
        "<font color=\"Red\"> 讓使用者可以自行輸入身高、體重，接著計算 BMI 值，並輸出小數點以下兩位的格式\n",
        "<img src=https://health99.hpa.gov.tw/img/exam/bmi_form.png width=\"200\">"
      ]
    },
    {
      "cell_type": "code",
      "execution_count": 90,
      "metadata": {
        "colab": {
          "base_uri": "https://localhost:8080/"
        },
        "id": "Sc-AHJbd8356",
        "outputId": "6b988dca-4a60-467d-ae6a-0e22d5781db3"
      },
      "outputs": [
        {
          "output_type": "stream",
          "name": "stdout",
          "text": [
            "請輸入你的身高(cm)：170\n",
            "請輸入你的體重(kg)：70\n",
            "你的BMI數值為： 24.221453\n"
          ]
        }
      ],
      "source": [
        "height = int(input(\"請輸入你的身高(cm)：\"))\n",
        "weight = int(input(\"請輸入你的體重(kg)：\"))\n",
        "#------------------- Code Here ------------------------#\n",
        "BMI = weight/((height/100)**2)\n",
        "print('你的BMI數值為： %.6f'  % BMI)\n",
        "#------------------- Stop Here ------------------------#"
      ]
    },
    {
      "cell_type": "markdown",
      "metadata": {
        "id": "Z5NgB9-Z8356"
      },
      "source": [
        "## for 迴圈"
      ]
    },
    {
      "cell_type": "code",
      "execution_count": 91,
      "metadata": {
        "colab": {
          "base_uri": "https://localhost:8080/"
        },
        "id": "Ia9hQCgy8357",
        "outputId": "bf02e280-a52d-43ff-8005-9571dbe94758"
      },
      "outputs": [
        {
          "output_type": "stream",
          "name": "stdout",
          "text": [
            "1\n",
            "2\n",
            "3\n",
            "4\n"
          ]
        }
      ],
      "source": [
        "for i in [1, 2, 3, 4]:    # i 會依序變成 1, 2, 3, 4 來執行下面 block 的程式，在這邊則是會被印出來\n",
        "    print(i)"
      ]
    },
    {
      "cell_type": "code",
      "execution_count": 92,
      "metadata": {
        "colab": {
          "base_uri": "https://localhost:8080/"
        },
        "id": "Ta7W63oI8357",
        "outputId": "a0ea537a-1f04-4c57-8872-6ce32acaa392"
      },
      "outputs": [
        {
          "output_type": "stream",
          "name": "stdout",
          "text": [
            "1\n",
            "2\n"
          ]
        }
      ],
      "source": [
        "for i in [1, 2, 3, 4]:\n",
        "    if i == 3:\n",
        "        break    # 使用 break 來提早離開，當 i 變成 3 時就離開這個 for loop\n",
        "    print(i)"
      ]
    },
    {
      "cell_type": "code",
      "execution_count": 93,
      "metadata": {
        "scrolled": true,
        "colab": {
          "base_uri": "https://localhost:8080/"
        },
        "id": "YSdwKdyt8357",
        "outputId": "a110e40a-dd40-461f-a7f7-5bbe63d8f81b"
      },
      "outputs": [
        {
          "output_type": "stream",
          "name": "stdout",
          "text": [
            "1\n",
            "2\n",
            "3\n",
            "4\n",
            "End\n"
          ]
        }
      ],
      "source": [
        "for i in [1, 2, 3, 4]:\n",
        "    print(i)\n",
        "else:\n",
        "    print('End')    # 如果前面的 for 成功跑完的話會執行這段"
      ]
    },
    {
      "cell_type": "code",
      "execution_count": 94,
      "metadata": {
        "colab": {
          "base_uri": "https://localhost:8080/"
        },
        "id": "mPVMGV6G8357",
        "outputId": "eb30bd07-62f8-4f98-bc55-f9f2332c47dc"
      },
      "outputs": [
        {
          "output_type": "stream",
          "name": "stdout",
          "text": [
            "1\n",
            "2\n"
          ]
        }
      ],
      "source": [
        "for i in [1, 2, 3, 4]:\n",
        "    if i == 3:\n",
        "        break\n",
        "    print(i)\n",
        "else:\n",
        "    print('End')    # 如果前面的 for 成功跑完的話會執行這段"
      ]
    },
    {
      "cell_type": "code",
      "execution_count": 95,
      "metadata": {
        "colab": {
          "base_uri": "https://localhost:8080/"
        },
        "id": "Tx52RTtm8357",
        "outputId": "348b9b54-f3db-45ae-8703-230483c8a1cd"
      },
      "outputs": [
        {
          "output_type": "stream",
          "name": "stdout",
          "text": [
            "1\n",
            "2\n",
            "4\n",
            "End\n"
          ]
        }
      ],
      "source": [
        "for i in [1, 2, 3, 4]:\n",
        "    if i == 3:\n",
        "        continue    # continue 可以跳過這次後面的 code，進入下一輪\n",
        "    print(i)\n",
        "else:\n",
        "    print('End')    # 如果前面的 for 成功跑完的話會執行這段"
      ]
    },
    {
      "cell_type": "markdown",
      "metadata": {
        "id": "IJ3fHQFW8357"
      },
      "source": [
        "## <font color=\"Red\"> 1.5 使用 for 迴圈計算 [1, 2, 3, 4, 6, 7]的數值總和</font>"
      ]
    },
    {
      "cell_type": "code",
      "execution_count": 96,
      "metadata": {
        "colab": {
          "base_uri": "https://localhost:8080/"
        },
        "id": "TMPoJeaV8357",
        "outputId": "5e828973-2d7b-4d03-b6d2-0ffbfe075f7d"
      },
      "outputs": [
        {
          "output_type": "stream",
          "name": "stdout",
          "text": [
            "總和為:23\n"
          ]
        }
      ],
      "source": [
        "sum = 0\n",
        "#------------------- Code Here ------------------------#\n",
        "for i in [1, 2, 3, 4, 6, 7]:\n",
        "    sum += i\n",
        "#------------------- Stop Here ------------------------#\n",
        "print(\"總和為:\"+str(sum))"
      ]
    },
    {
      "cell_type": "markdown",
      "metadata": {
        "id": "t0W9Wba08358"
      },
      "source": [
        "## while 迴圈"
      ]
    },
    {
      "cell_type": "code",
      "execution_count": 97,
      "metadata": {
        "colab": {
          "base_uri": "https://localhost:8080/"
        },
        "id": "mbXYjCWv8358",
        "outputId": "f2f163e3-62ef-4612-d1f6-82eb6bcc1ff4"
      },
      "outputs": [
        {
          "output_type": "stream",
          "name": "stdout",
          "text": [
            "4\n",
            "3\n",
            "2\n",
            "1\n"
          ]
        }
      ],
      "source": [
        "i = 4\n",
        "while i > 0:   # 當 while 後面接的條件一直符合時就會繼續執行\n",
        "    print(i)\n",
        "    i = i - 1"
      ]
    },
    {
      "cell_type": "code",
      "execution_count": 98,
      "metadata": {
        "colab": {
          "base_uri": "https://localhost:8080/"
        },
        "id": "XElAi5th8358",
        "outputId": "5664bd3b-d41a-425b-fbda-63ffe7e8d749"
      },
      "outputs": [
        {
          "output_type": "stream",
          "name": "stdout",
          "text": [
            "4\n",
            "3\n",
            "2\n",
            "1\n",
            "End\n"
          ]
        }
      ],
      "source": [
        "i = 4\n",
        "while i > 0:\n",
        "    print(i)\n",
        "    i = i - 1\n",
        "else:\n",
        "    print('End')"
      ]
    },
    {
      "cell_type": "code",
      "execution_count": 99,
      "metadata": {
        "colab": {
          "base_uri": "https://localhost:8080/"
        },
        "id": "hkpZmer_8358",
        "outputId": "59a75961-6026-4532-edfe-47814656ff4b"
      },
      "outputs": [
        {
          "output_type": "stream",
          "name": "stdout",
          "text": [
            "4\n"
          ]
        }
      ],
      "source": [
        "i = 4\n",
        "while i > 0:\n",
        "    if i == 3:\n",
        "        break\n",
        "    print(i)\n",
        "    i = i - 1\n",
        "else:\n",
        "    print('End')"
      ]
    },
    {
      "cell_type": "markdown",
      "metadata": {
        "id": "Pc0txCuz8358"
      },
      "source": [
        "## <font color=\"Red\"> 1.6 使用while計算小於等於40的偶數和"
      ]
    },
    {
      "cell_type": "code",
      "execution_count": 100,
      "metadata": {
        "colab": {
          "base_uri": "https://localhost:8080/"
        },
        "id": "bLQANKGk8358",
        "outputId": "ed8c8a07-4746-4209-c16f-4452709a60a4"
      },
      "outputs": [
        {
          "output_type": "stream",
          "name": "stdout",
          "text": [
            "小於等於40的偶數和:420\n"
          ]
        }
      ],
      "source": [
        "i = 40\n",
        "sum = 0;\n",
        "#------------------- Code Here ------------------------#\n",
        "while i > 0:\n",
        "    sum += i\n",
        "    i -= 2\n",
        "#------------------- Stop Here ------------------------#\n",
        "print(\"小於等於40的偶數和:\"+str(sum))"
      ]
    },
    {
      "cell_type": "markdown",
      "metadata": {
        "id": "0OhdRMbN8359"
      },
      "source": [
        "## <font color=\"Red\"> 1.7 使用while計算小於等於200的 3 或 5 的倍數和"
      ]
    },
    {
      "cell_type": "code",
      "execution_count": 101,
      "metadata": {
        "colab": {
          "base_uri": "https://localhost:8080/"
        },
        "id": "aBRj5UTg8359",
        "outputId": "902693dc-4869-46bf-fdb9-29fe145c8784"
      },
      "outputs": [
        {
          "output_type": "stream",
          "name": "stdout",
          "text": [
            "小於等於200的 3 或 5 的倍數和:9368\n"
          ]
        }
      ],
      "source": [
        "#Method 1 (使用 if 和 elif)\n",
        "i = 200\n",
        "sum = 0;\n",
        "#------------------- Code Here ------------------------#\n",
        "while i>0:\n",
        "    if(i%3==0):\n",
        "        sum += i\n",
        "    elif(i%5==0):\n",
        "        sum += i\n",
        "    i-=1\n",
        "#------------------- Stop Here ------------------------#\n",
        "print(\"小於等於200的 3 或 5 的倍數和:\"+str(sum))"
      ]
    },
    {
      "cell_type": "code",
      "execution_count": 102,
      "metadata": {
        "colab": {
          "base_uri": "https://localhost:8080/"
        },
        "id": "lX3LjLbr8359",
        "outputId": "78bb10eb-67c2-416d-ab8a-ea09bf5fc8bc"
      },
      "outputs": [
        {
          "output_type": "stream",
          "name": "stdout",
          "text": [
            "小於等於200的 3 或 5 的倍數和:9368\n"
          ]
        }
      ],
      "source": [
        "#Method 2 (僅使用一個 if)\n",
        "i = 200\n",
        "sum = 0;\n",
        "#------------------- Code Here ------------------------#\n",
        "while i>0:\n",
        "    if(i%3==0 or i%5==0):\n",
        "        sum += i\n",
        "    i-=1\n",
        "#------------------- Stop Here ------------------------#\n",
        "print(\"小於等於200的 3 或 5 的倍數和:\"+str(sum))"
      ]
    },
    {
      "cell_type": "markdown",
      "metadata": {
        "id": "fW74p5oS8359"
      },
      "source": [
        "## 更多字串操作\n",
        "\n",
        "* string formatting\n",
        "* 字串串接\n",
        "* slice : `start:stop[:step]`"
      ]
    },
    {
      "cell_type": "code",
      "execution_count": 103,
      "metadata": {
        "colab": {
          "base_uri": "https://localhost:8080/",
          "height": 36
        },
        "id": "kivDnA1p8359",
        "outputId": "ed9baabe-59be-4ca5-939d-17e89f64fac2"
      },
      "outputs": [
        {
          "output_type": "execute_result",
          "data": {
            "text/plain": [
              "'1 | 2'"
            ],
            "application/vnd.google.colaboratory.intrinsic+json": {
              "type": "string"
            }
          },
          "metadata": {},
          "execution_count": 103
        }
      ],
      "source": [
        "'{} | {}'.format(1, 2)    # 用 {} 表示要留著填空，後面用 .format 傳入要填進去的值"
      ]
    },
    {
      "cell_type": "code",
      "execution_count": 104,
      "metadata": {
        "colab": {
          "base_uri": "https://localhost:8080/",
          "height": 36
        },
        "id": "TCVxPjH88359",
        "outputId": "6a2de688-e56c-4143-e118-afacbad5f9b5"
      },
      "outputs": [
        {
          "output_type": "execute_result",
          "data": {
            "text/plain": [
              "'~ [1, 2, 3, 4] ~'"
            ],
            "application/vnd.google.colaboratory.intrinsic+json": {
              "type": "string"
            }
          },
          "metadata": {},
          "execution_count": 104
        }
      ],
      "source": [
        "'~ {} ~'.format([1, 2, 3, 4])"
      ]
    },
    {
      "cell_type": "code",
      "execution_count": 105,
      "metadata": {
        "colab": {
          "base_uri": "https://localhost:8080/",
          "height": 36
        },
        "id": "XoChDMMN8359",
        "outputId": "88a7028f-5794-41ba-af71-8a6c2b6ae093"
      },
      "outputs": [
        {
          "output_type": "execute_result",
          "data": {
            "text/plain": [
              "'上上下下左右左右BA'"
            ],
            "application/vnd.google.colaboratory.intrinsic+json": {
              "type": "string"
            }
          },
          "metadata": {},
          "execution_count": 105
        }
      ],
      "source": [
        "'上上下下' + '左右左右' + 'BA'    # 用 + 可以把字串接起來"
      ]
    },
    {
      "cell_type": "code",
      "execution_count": 106,
      "metadata": {
        "id": "GAH77MHB8359"
      },
      "outputs": [],
      "source": [
        "s = 'abcdefghijklmnopqrstuvwxyz'"
      ]
    },
    {
      "cell_type": "code",
      "execution_count": 107,
      "metadata": {
        "colab": {
          "base_uri": "https://localhost:8080/",
          "height": 36
        },
        "id": "7ikZZDFN835-",
        "outputId": "57b72760-53c2-4627-f623-61144d001ca9"
      },
      "outputs": [
        {
          "output_type": "execute_result",
          "data": {
            "text/plain": [
              "'a'"
            ],
            "application/vnd.google.colaboratory.intrinsic+json": {
              "type": "string"
            }
          },
          "metadata": {},
          "execution_count": 107
        }
      ],
      "source": [
        "s[0]"
      ]
    },
    {
      "cell_type": "code",
      "execution_count": 108,
      "metadata": {
        "colab": {
          "base_uri": "https://localhost:8080/",
          "height": 36
        },
        "id": "CFQIUF7T835-",
        "outputId": "0805dd9b-317d-4250-f3cf-0076c9dce3fe"
      },
      "outputs": [
        {
          "output_type": "execute_result",
          "data": {
            "text/plain": [
              "'bcd'"
            ],
            "application/vnd.google.colaboratory.intrinsic+json": {
              "type": "string"
            }
          },
          "metadata": {},
          "execution_count": 108
        }
      ],
      "source": [
        "s[1:4]    # index 1 到 index 3 (index 4 結束)"
      ]
    },
    {
      "cell_type": "code",
      "execution_count": 109,
      "metadata": {
        "colab": {
          "base_uri": "https://localhost:8080/",
          "height": 36
        },
        "id": "MTqpWBlC835-",
        "outputId": "c9e4a8d7-70ea-4042-d14b-bcf62d2c438b"
      },
      "outputs": [
        {
          "output_type": "execute_result",
          "data": {
            "text/plain": [
              "'z'"
            ],
            "application/vnd.google.colaboratory.intrinsic+json": {
              "type": "string"
            }
          },
          "metadata": {},
          "execution_count": 109
        }
      ],
      "source": [
        "s[-1]     # 負的 index 會倒回去"
      ]
    },
    {
      "cell_type": "code",
      "execution_count": 110,
      "metadata": {
        "colab": {
          "base_uri": "https://localhost:8080/",
          "height": 36
        },
        "id": "Se4lMPg1835-",
        "outputId": "34ad3974-37ff-4877-c22e-e786105c5c2d"
      },
      "outputs": [
        {
          "output_type": "execute_result",
          "data": {
            "text/plain": [
              "'bdfh'"
            ],
            "application/vnd.google.colaboratory.intrinsic+json": {
              "type": "string"
            }
          },
          "metadata": {},
          "execution_count": 110
        }
      ],
      "source": [
        "s[1:8:2]  # index 1 到 index 7，每次跳兩步"
      ]
    },
    {
      "cell_type": "code",
      "execution_count": 111,
      "metadata": {
        "colab": {
          "base_uri": "https://localhost:8080/",
          "height": 36
        },
        "id": "VvA9Y3cv835-",
        "outputId": "92a63cd7-41c1-4c5a-b8e9-0a2395d017c7"
      },
      "outputs": [
        {
          "output_type": "execute_result",
          "data": {
            "text/plain": [
              "'zxvt'"
            ],
            "application/vnd.google.colaboratory.intrinsic+json": {
              "type": "string"
            }
          },
          "metadata": {},
          "execution_count": 111
        }
      ],
      "source": [
        "s[-1:-9:-2]"
      ]
    },
    {
      "cell_type": "code",
      "execution_count": 112,
      "metadata": {
        "colab": {
          "base_uri": "https://localhost:8080/",
          "height": 36
        },
        "id": "KT11MAYb835-",
        "outputId": "fa2d626c-d1b6-44fd-d53b-843b75a53571"
      },
      "outputs": [
        {
          "output_type": "execute_result",
          "data": {
            "text/plain": [
              "'zyxwvutsrqponmlkjihgfedcba'"
            ],
            "application/vnd.google.colaboratory.intrinsic+json": {
              "type": "string"
            }
          },
          "metadata": {},
          "execution_count": 112
        }
      ],
      "source": [
        "s[::-1]   # 顛倒，不指定的話會自動帶入值"
      ]
    },
    {
      "cell_type": "markdown",
      "metadata": {
        "id": "W4k0LAHk835-"
      },
      "source": [
        "## Function\n",
        "\n",
        "一些常用的 code 會寫成 function，之後要使用時直接呼叫就可以了"
      ]
    },
    {
      "cell_type": "code",
      "execution_count": 113,
      "metadata": {
        "scrolled": true,
        "colab": {
          "base_uri": "https://localhost:8080/"
        },
        "id": "IoCO1Ny4835-",
        "outputId": "8ef21362-9baa-421b-ac6e-8a3748414ae3"
      },
      "outputs": [
        {
          "output_type": "stream",
          "name": "stdout",
          "text": [
            "Hello ~\n"
          ]
        }
      ],
      "source": [
        "def hello():\n",
        "    print('Hello ~')\n",
        "\n",
        "hello()"
      ]
    },
    {
      "cell_type": "code",
      "execution_count": 114,
      "metadata": {
        "colab": {
          "base_uri": "https://localhost:8080/"
        },
        "id": "S5KXgUOL835_",
        "outputId": "fdea185e-c871-4406-fee2-d28bbfbf9a72"
      },
      "outputs": [
        {
          "output_type": "stream",
          "name": "stdout",
          "text": [
            "42\n"
          ]
        }
      ],
      "source": [
        "def f_42():\n",
        "    return 42    # 用 return 來回傳資料\n",
        "\n",
        "x = f_42()\n",
        "print(x)"
      ]
    },
    {
      "cell_type": "code",
      "execution_count": 115,
      "metadata": {
        "colab": {
          "base_uri": "https://localhost:8080/"
        },
        "id": "qEcz0S4G835_",
        "outputId": "11618a2b-8d99-4ac9-8693-3a52d21af758"
      },
      "outputs": [
        {
          "output_type": "stream",
          "name": "stdout",
          "text": [
            "13 15\n"
          ]
        }
      ],
      "source": [
        "def f(a, b=3):   # a 和 b 是參數，b 預設是 3\n",
        "    return a+b\n",
        "\n",
        "x = f(10)\n",
        "y = f(10, 5)\n",
        "print(x, y)"
      ]
    },
    {
      "cell_type": "markdown",
      "metadata": {
        "id": "MxlS8MAD835_"
      },
      "source": [
        "## <font color=\"Red\"> 1.8 函數練習</font>\n",
        "<font color=\"Red\">撰寫函數 test(a,b)，計算傳入兩個數a和b的平均值</font>"
      ]
    },
    {
      "cell_type": "code",
      "execution_count": 116,
      "metadata": {
        "colab": {
          "base_uri": "https://localhost:8080/"
        },
        "id": "0c-Rnls3835_",
        "outputId": "d764bc29-ae48-47de-e96e-abe9ee29fa9d"
      },
      "outputs": [
        {
          "output_type": "stream",
          "name": "stdout",
          "text": [
            "5.5\n"
          ]
        }
      ],
      "source": [
        "#------------------- Code Here ------------------------#\n",
        "def test(a,b):\n",
        "    return (a+b)/2\n",
        "#------------------- Stop Here ------------------------#\n",
        "r = test(4,7)\n",
        "print(r)"
      ]
    },
    {
      "cell_type": "markdown",
      "metadata": {
        "id": "9IwI-vyh835_"
      },
      "source": [
        "## <font color=\"Red\"> 1.9 函數練習</font>\n",
        "<font color=\"Red\">撰寫函數 test2(a)，計算傳入串列a中所有值的平均 <p>\n",
        "例如：a=[1, 2, 3, 4]</font>"
      ]
    },
    {
      "cell_type": "code",
      "execution_count": 117,
      "metadata": {
        "colab": {
          "base_uri": "https://localhost:8080/"
        },
        "id": "Ywd6FHAQ835_",
        "outputId": "c9e73063-792f-4574-94aa-cc499f233efb"
      },
      "outputs": [
        {
          "output_type": "stream",
          "name": "stdout",
          "text": [
            "2.5\n"
          ]
        }
      ],
      "source": [
        "#------------------- Code Here ------------------------#\n",
        "def test2(tu):\n",
        "    sum = 0\n",
        "    for i in tu:\n",
        "        sum += i\n",
        "    return sum /(len(tu))\n",
        "\n",
        "#------------------- Stop Here ------------------------#\n",
        "r = test2([1, 2, 3, 4])\n",
        "print(r)"
      ]
    },
    {
      "cell_type": "markdown",
      "metadata": {
        "id": "R5gEnhVK835_"
      },
      "source": [
        "# <font color=\"Red\"> 1.10 函數練習</font>\n",
        "<font color=\"Red\">撰寫函數 test3(a)，計算傳入串列a中所有值的平均值(Mean)與變異數(Variance)，再利用串列方式回傳 <p>\n",
        "例如：a=[1, 2, 3, 4]</font>\n",
        "\n",
        "<img src=\"https://images.squarespace-cdn.com/content/v1/533db07de4b0d9f7ba7f1e77/1552186395207-9OQVIKUBI0G3TJPEJJ7R/summary+table+of+mean%2C+variance%2C+and+standard+deviation+formulas?format=1500w%22\"  width=\"700\">"
      ]
    },
    {
      "cell_type": "code",
      "execution_count": 118,
      "metadata": {
        "colab": {
          "base_uri": "https://localhost:8080/"
        },
        "id": "LVCyAapC836A",
        "outputId": "71648272-2d04-4af8-f626-71d94457f033"
      },
      "outputs": [
        {
          "output_type": "stream",
          "name": "stdout",
          "text": [
            "(2.5, 1.25)\n"
          ]
        }
      ],
      "source": [
        "#------------------- Code Here ------------------------#\n",
        "def test3(l):\n",
        "    mean = 0\n",
        "    variance = 0\n",
        "    for i in l:\n",
        "        mean += i\n",
        "    mean = mean / len(l)\n",
        "    for i in l:\n",
        "        variance += (i - mean) ** 2\n",
        "    variance /= (len(l))\n",
        "    #variance = variance ** 0.5\n",
        "    return mean, variance\n",
        "\n",
        "#------------------- Stop Here ------------------------#\n",
        "ans = test3([1, 2, 3, 4])\n",
        "print(ans)"
      ]
    },
    {
      "cell_type": "markdown",
      "metadata": {
        "id": "rTZNnISx836A"
      },
      "source": [
        "## <font color=\"Red\"> 1.11 設計一個程式，輸入一個整數n，並在函式calSquare中計算1到n之間所有數字的平方和。¶"
      ]
    },
    {
      "cell_type": "code",
      "execution_count": 119,
      "metadata": {
        "colab": {
          "base_uri": "https://localhost:8080/"
        },
        "id": "9VmJ6BDt836A",
        "outputId": "6b79e124-9660-449f-b263-170d818a6187"
      },
      "outputs": [
        {
          "output_type": "stream",
          "name": "stdout",
          "text": [
            "請輸入一個數字15\n",
            "1到n之間所有數字平方和為1240\n"
          ]
        }
      ],
      "source": [
        "#------------------- Code Here ------------------------#\n",
        "def calSquare(a):\n",
        "    sum = 0\n",
        "    for i in range(a+1):\n",
        "        sum += i**2\n",
        "    return sum\n",
        "#------------------- Code Here ------------------------#\n",
        "number = int(input(\"請輸入一個數字\"))\n",
        "cal_number = calSquare(number)\n",
        "print(\"1到n之間所有數字平方和為\"+str(cal_number))"
      ]
    },
    {
      "cell_type": "markdown",
      "metadata": {
        "id": "gdjYkCG0836A"
      },
      "source": [
        "## <font color=\"Red\"> 1.12 設計一個程式，輸入兩個整數a和b，並在函式calSquare5中計算a到b之間5的倍數的平方和。¶"
      ]
    },
    {
      "cell_type": "code",
      "execution_count": 120,
      "metadata": {
        "colab": {
          "base_uri": "https://localhost:8080/"
        },
        "id": "cNvOBkCM836A",
        "outputId": "928d2b04-78c4-4f58-a79b-2389b5f82ca8"
      },
      "outputs": [
        {
          "output_type": "stream",
          "name": "stdout",
          "text": [
            "請輸入第一個數字3\n",
            "請輸入第二個數字14\n",
            "3到14之間所有數字平方和為125\n"
          ]
        }
      ],
      "source": [
        "#------------------- Code Here ------------------------#\n",
        "def calSquare5(a,b):\n",
        "    sum = 0\n",
        "    for i in range(a, b+1):\n",
        "        if(i%5==0):\n",
        "            sum += (i**2)\n",
        "    return sum\n",
        "#------------------- Code Here ------------------------#\n",
        "a = int(input(\"請輸入第一個數字\"))\n",
        "b = int(input(\"請輸入第二個數字\"))\n",
        "cal_number = calSquare5(a,b)\n",
        "print(str(a)+\"到\"+str(b)+\"之間所有數字平方和為\"+str(cal_number))"
      ]
    },
    {
      "cell_type": "markdown",
      "metadata": {
        "id": "VkOqel2Y836A"
      },
      "source": [
        "## <font color=\"Red\"> 1.13 寫一個程式，輸入一個整數n，並在函式checkPrime中判斷n是不是質數。"
      ]
    },
    {
      "cell_type": "code",
      "execution_count": 121,
      "metadata": {
        "colab": {
          "base_uri": "https://localhost:8080/"
        },
        "id": "nKsZzObX836A",
        "outputId": "12bca916-e603-4516-f6fc-4fbf070c21d0"
      },
      "outputs": [
        {
          "output_type": "stream",
          "name": "stdout",
          "text": [
            "請輸入一個數字127\n",
            "數字127是質數嗎？Yes\n"
          ]
        }
      ],
      "source": [
        "#------------------- Code Here ------------------------#\n",
        "def checkPrime(num):\n",
        "  for i in range(2,int((num)**0.5)+1):\n",
        "    if(num % i == 0):\n",
        "      return \"No\"\n",
        "  return \"Yes\"\n",
        "number = int(input(\"請輸入一個數字\"))\n",
        "isPrime = checkPrime(number)\n",
        "print(\"數字\"+str(number)+\"是質數嗎？\"+isPrime)\n"
      ]
    }
  ],
  "metadata": {
    "kernelspec": {
      "display_name": "Python 3 (ipykernel)",
      "language": "python",
      "name": "python3"
    },
    "language_info": {
      "codemirror_mode": {
        "name": "ipython",
        "version": 3
      },
      "file_extension": ".py",
      "mimetype": "text/x-python",
      "name": "python",
      "nbconvert_exporter": "python",
      "pygments_lexer": "ipython3",
      "version": "3.10.9"
    },
    "colab": {
      "provenance": []
    }
  },
  "nbformat": 4,
  "nbformat_minor": 0
}